{
 "cells": [
  {
   "cell_type": "markdown",
   "id": "78e545d4",
   "metadata": {},
   "source": [
    "# Understand the \"Data ES\" dataset and extract data from the department code \"13\".\n",
    "https://equipements.sports.gouv.fr/explore/dataset/data-es/table/"
   ]
  },
  {
   "cell_type": "code",
   "execution_count": 1,
   "id": "5feecb1f",
   "metadata": {},
   "outputs": [],
   "source": [
    "import json\n",
    "import pandas as pd"
   ]
  },
  {
   "cell_type": "markdown",
   "id": "808b99b4",
   "metadata": {},
   "source": [
    "Load data"
   ]
  },
  {
   "cell_type": "code",
   "execution_count": 2,
   "id": "8891918b",
   "metadata": {},
   "outputs": [
    {
     "data": {
      "text/html": [
       "<div>\n",
       "<style scoped>\n",
       "    .dataframe tbody tr th:only-of-type {\n",
       "        vertical-align: middle;\n",
       "    }\n",
       "\n",
       "    .dataframe tbody tr th {\n",
       "        vertical-align: top;\n",
       "    }\n",
       "\n",
       "    .dataframe thead th {\n",
       "        text-align: right;\n",
       "    }\n",
       "</style>\n",
       "<table border=\"1\" class=\"dataframe\">\n",
       "  <thead>\n",
       "    <tr style=\"text-align: right;\">\n",
       "      <th></th>\n",
       "      <th>equip_numero</th>\n",
       "      <th>inst_numero</th>\n",
       "      <th>inst_enqu_date</th>\n",
       "      <th>inst_nom</th>\n",
       "      <th>inst_siret</th>\n",
       "      <th>inst_adresse</th>\n",
       "      <th>inst_cp</th>\n",
       "      <th>new_name</th>\n",
       "      <th>new_code</th>\n",
       "      <th>inst_part_type_filter</th>\n",
       "      <th>...</th>\n",
       "      <th>equip_pshs_trib</th>\n",
       "      <th>equip_pshs_vest</th>\n",
       "      <th>equip_x</th>\n",
       "      <th>equip_y</th>\n",
       "      <th>inst_part_type</th>\n",
       "      <th>aps_name</th>\n",
       "      <th>equip_qpv</th>\n",
       "      <th>equip_qpv_200m</th>\n",
       "      <th>categorie</th>\n",
       "      <th>gen_2024fin_labellisation</th>\n",
       "    </tr>\n",
       "  </thead>\n",
       "  <tbody>\n",
       "    <tr>\n",
       "      <th>0</th>\n",
       "      <td>E002I340880002</td>\n",
       "      <td>I340880002</td>\n",
       "      <td>2025-03-31</td>\n",
       "      <td>LES ECURIES DU CRES</td>\n",
       "      <td>None</td>\n",
       "      <td>CHEMIN DE L ANCIENNE GARE</td>\n",
       "      <td>34660.0</td>\n",
       "      <td>Cournonterral</td>\n",
       "      <td>34088</td>\n",
       "      <td>None</td>\n",
       "      <td>...</td>\n",
       "      <td>false</td>\n",
       "      <td>false</td>\n",
       "      <td>43.539360</td>\n",
       "      <td>3.734430</td>\n",
       "      <td>None</td>\n",
       "      <td>[Saut d'obstacle]</td>\n",
       "      <td>None</td>\n",
       "      <td>None</td>\n",
       "      <td>None</td>\n",
       "      <td>None</td>\n",
       "    </tr>\n",
       "    <tr>\n",
       "      <th>1</th>\n",
       "      <td>E002I341010005</td>\n",
       "      <td>I341010005</td>\n",
       "      <td>2025-03-31</td>\n",
       "      <td>Courts de Tennis</td>\n",
       "      <td>None</td>\n",
       "      <td>1 chemin des usines</td>\n",
       "      <td>34510.0</td>\n",
       "      <td>Florensac</td>\n",
       "      <td>34101</td>\n",
       "      <td>None</td>\n",
       "      <td>...</td>\n",
       "      <td>false</td>\n",
       "      <td>false</td>\n",
       "      <td>43.386490</td>\n",
       "      <td>3.472680</td>\n",
       "      <td>None</td>\n",
       "      <td>[Tennis]</td>\n",
       "      <td>None</td>\n",
       "      <td>None</td>\n",
       "      <td>None</td>\n",
       "      <td>None</td>\n",
       "    </tr>\n",
       "    <tr>\n",
       "      <th>2</th>\n",
       "      <td>E002I341110002</td>\n",
       "      <td>I341110002</td>\n",
       "      <td>2025-03-31</td>\n",
       "      <td>Kaly Club</td>\n",
       "      <td>None</td>\n",
       "      <td>ruelle Mazet</td>\n",
       "      <td>34190.0</td>\n",
       "      <td>Ganges</td>\n",
       "      <td>34111</td>\n",
       "      <td>None</td>\n",
       "      <td>...</td>\n",
       "      <td>false</td>\n",
       "      <td>false</td>\n",
       "      <td>43.934840</td>\n",
       "      <td>3.711830</td>\n",
       "      <td>None</td>\n",
       "      <td>[Activités de forme et de santé, Musculation]</td>\n",
       "      <td>None</td>\n",
       "      <td>None</td>\n",
       "      <td>None</td>\n",
       "      <td>None</td>\n",
       "    </tr>\n",
       "    <tr>\n",
       "      <th>3</th>\n",
       "      <td>E002I341160015</td>\n",
       "      <td>I341160015</td>\n",
       "      <td>2025-03-31</td>\n",
       "      <td>Tennis Club ASH</td>\n",
       "      <td>None</td>\n",
       "      <td>Route de Ganges Rue de la Valsière Domaine Dam...</td>\n",
       "      <td>34790.0</td>\n",
       "      <td>Grabels</td>\n",
       "      <td>34116</td>\n",
       "      <td>None</td>\n",
       "      <td>...</td>\n",
       "      <td>false</td>\n",
       "      <td>false</td>\n",
       "      <td>43.654950</td>\n",
       "      <td>3.829480</td>\n",
       "      <td>None</td>\n",
       "      <td>[Tennis]</td>\n",
       "      <td>None</td>\n",
       "      <td>None</td>\n",
       "      <td>None</td>\n",
       "      <td>None</td>\n",
       "    </tr>\n",
       "    <tr>\n",
       "      <th>4</th>\n",
       "      <td>E002I341180006</td>\n",
       "      <td>I341180006</td>\n",
       "      <td>2025-03-31</td>\n",
       "      <td>City stade</td>\n",
       "      <td>None</td>\n",
       "      <td>Chemin de la carlerasse</td>\n",
       "      <td>34820.0</td>\n",
       "      <td>Guzargues</td>\n",
       "      <td>34118</td>\n",
       "      <td>None</td>\n",
       "      <td>...</td>\n",
       "      <td>false</td>\n",
       "      <td>false</td>\n",
       "      <td>43.725839</td>\n",
       "      <td>3.924939</td>\n",
       "      <td>None</td>\n",
       "      <td>[Basket-Ball, Football / Football en salle (Fu...</td>\n",
       "      <td>None</td>\n",
       "      <td>None</td>\n",
       "      <td>proximité</td>\n",
       "      <td>None</td>\n",
       "    </tr>\n",
       "  </tbody>\n",
       "</table>\n",
       "<p>5 rows × 113 columns</p>\n",
       "</div>"
      ],
      "text/plain": [
       "     equip_numero inst_numero inst_enqu_date             inst_nom inst_siret  \\\n",
       "0  E002I340880002  I340880002     2025-03-31  LES ECURIES DU CRES       None   \n",
       "1  E002I341010005  I341010005     2025-03-31     Courts de Tennis       None   \n",
       "2  E002I341110002  I341110002     2025-03-31            Kaly Club       None   \n",
       "3  E002I341160015  I341160015     2025-03-31      Tennis Club ASH       None   \n",
       "4  E002I341180006  I341180006     2025-03-31           City stade       None   \n",
       "\n",
       "                                        inst_adresse  inst_cp       new_name  \\\n",
       "0                          CHEMIN DE L ANCIENNE GARE  34660.0  Cournonterral   \n",
       "1                                1 chemin des usines  34510.0      Florensac   \n",
       "2                                       ruelle Mazet  34190.0         Ganges   \n",
       "3  Route de Ganges Rue de la Valsière Domaine Dam...  34790.0        Grabels   \n",
       "4                            Chemin de la carlerasse  34820.0      Guzargues   \n",
       "\n",
       "  new_code inst_part_type_filter  ... equip_pshs_trib equip_pshs_vest  \\\n",
       "0    34088                  None  ...           false           false   \n",
       "1    34101                  None  ...           false           false   \n",
       "2    34111                  None  ...           false           false   \n",
       "3    34116                  None  ...           false           false   \n",
       "4    34118                  None  ...           false           false   \n",
       "\n",
       "     equip_x   equip_y inst_part_type  \\\n",
       "0  43.539360  3.734430           None   \n",
       "1  43.386490  3.472680           None   \n",
       "2  43.934840  3.711830           None   \n",
       "3  43.654950  3.829480           None   \n",
       "4  43.725839  3.924939           None   \n",
       "\n",
       "                                            aps_name equip_qpv  \\\n",
       "0                                  [Saut d'obstacle]      None   \n",
       "1                                           [Tennis]      None   \n",
       "2      [Activités de forme et de santé, Musculation]      None   \n",
       "3                                           [Tennis]      None   \n",
       "4  [Basket-Ball, Football / Football en salle (Fu...      None   \n",
       "\n",
       "   equip_qpv_200m  categorie gen_2024fin_labellisation  \n",
       "0            None       None                      None  \n",
       "1            None       None                      None  \n",
       "2            None       None                      None  \n",
       "3            None       None                      None  \n",
       "4            None  proximité                      None  \n",
       "\n",
       "[5 rows x 113 columns]"
      ]
     },
     "execution_count": 2,
     "metadata": {},
     "output_type": "execute_result"
    }
   ],
   "source": [
    "df = pd.read_json(\"data-es.json\")\n",
    "df.head()"
   ]
  },
  {
   "cell_type": "code",
   "execution_count": 3,
   "id": "c1298b77",
   "metadata": {},
   "outputs": [
    {
     "data": {
      "text/plain": [
       "0         34088\n",
       "1         34101\n",
       "2         34111\n",
       "3         34116\n",
       "4         34118\n",
       "          ...  \n",
       "333102    13117\n",
       "333103    13117\n",
       "333104    13118\n",
       "333105    13118\n",
       "333106    13119\n",
       "Name: new_code, Length: 333107, dtype: object"
      ]
     },
     "execution_count": 3,
     "metadata": {},
     "output_type": "execute_result"
    }
   ],
   "source": [
    "df.new_code"
   ]
  },
  {
   "cell_type": "markdown",
   "id": "2bb015bb",
   "metadata": {},
   "source": [
    "### 1. Select only interesting columns"
   ]
  },
  {
   "cell_type": "code",
   "execution_count": 4,
   "id": "338b0af9",
   "metadata": {},
   "outputs": [
    {
     "data": {
      "text/plain": [
       "((333107, 113), (333107, 13))"
      ]
     },
     "execution_count": 4,
     "metadata": {},
     "output_type": "execute_result"
    }
   ],
   "source": [
    "df_filtered = df[['equip_coordonnees', 'inst_numero', 'inst_nom', 'equip_type_name', 'equip_type_famille', 'aps_name', 'equip_acc_libre', 'equip_url', 'inst_adresse', 'new_code', 'equip_prop_nom', 'equip_gest_type', 'inst_acc_handi_bool']]\n",
    "df.shape, df_filtered.shape"
   ]
  },
  {
   "cell_type": "markdown",
   "id": "479615f9",
   "metadata": {},
   "source": [
    "### 2. We only need line who contain valid location and valid department code"
   ]
  },
  {
   "cell_type": "code",
   "execution_count": 5,
   "id": "07fa3a9f",
   "metadata": {},
   "outputs": [
    {
     "data": {
      "text/plain": [
       "((333107, 113), (328103, 13))"
      ]
     },
     "execution_count": 5,
     "metadata": {},
     "output_type": "execute_result"
    }
   ],
   "source": [
    "df_filtered = df_filtered.dropna(subset=[\"equip_coordonnees\", \"new_code\"])\n",
    "df.shape, df_filtered.shape"
   ]
  },
  {
   "cell_type": "markdown",
   "id": "3df16738",
   "metadata": {},
   "source": [
    "### 3. \"Bouches-du-Rhône\" data \"13\""
   ]
  },
  {
   "cell_type": "code",
   "execution_count": 6,
   "id": "562fd4db",
   "metadata": {},
   "outputs": [
    {
     "data": {
      "text/plain": [
       "((333107, 113), (5825, 13))"
      ]
     },
     "execution_count": 6,
     "metadata": {},
     "output_type": "execute_result"
    }
   ],
   "source": [
    "df_filtered = df_filtered[df_filtered['new_code'].str.startswith(\"13\")]\n",
    "df.shape, df_filtered.shape"
   ]
  },
  {
   "cell_type": "markdown",
   "id": "1d182dec",
   "metadata": {},
   "source": [
    "export data"
   ]
  },
  {
   "cell_type": "code",
   "execution_count": 7,
   "id": "fa88923b",
   "metadata": {},
   "outputs": [],
   "source": [
    "df_filtered.to_csv('filtered-data-es.csv')"
   ]
  }
 ],
 "metadata": {
  "kernelspec": {
   "display_name": "base",
   "language": "python",
   "name": "python3"
  },
  "language_info": {
   "codemirror_mode": {
    "name": "ipython",
    "version": 3
   },
   "file_extension": ".py",
   "mimetype": "text/x-python",
   "name": "python",
   "nbconvert_exporter": "python",
   "pygments_lexer": "ipython3",
   "version": "3.12.7"
  }
 },
 "nbformat": 4,
 "nbformat_minor": 5
}
